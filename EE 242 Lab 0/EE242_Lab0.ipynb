{
 "cells": [
  {
   "cell_type": "markdown",
   "id": "e3a3ac46-2aa3-4a10-a2ac-fabc2fda3970",
   "metadata": {
    "tags": []
   },
   "source": [
    "# EE 242 Lab 0 – Texts, Code, Plot and Play\n",
    "\n",
    "In this lab exercise, basic python tools that will be required throughout this course to perform the various lab assignments.\n",
    "\n",
    "## Form Teams\n",
    "\n",
    "All in-lab sessions will be conducted as a team of 2-4 students. We prefer teams of 3 over other combinations. \n",
    "\n",
    "Write down the names and number of your team (assigned by the TA of the form \"XXYY\"\n",
    "where XX is your lab session code (AA, AB, AD, AE, AF) and YY is your team number.\n",
    "\n",
    "Team XXYY: Name 1, Name 2, Name 3 **DONT FORGET TO PUT YOUR TEAM INFO HERE**\n"
   ]
  },
  {
   "cell_type": "markdown",
   "id": "9b637e83-cf13-4289-b230-71865fb7a702",
   "metadata": {},
   "source": [
    "## Playing with strings\n",
    "\n",
    "### Lab 0.1 - Palindromes\n",
    "\n",
    "Write the python code for reading input from user and write a function to check whether the string is a palindrome using the following algorithm\n",
    "\n",
    "- read input in a string a\n",
    "- reverse the string b\n",
    "- write a for loop to check from 1 $\\rightarrow$ N if a[i]=b[i]\n",
    "- if all characters match return True else return False"
   ]
  },
  {
   "cell_type": "code",
   "execution_count": 2,
   "id": "9e41b1be-7146-4576-a73a-147c9c4e73a2",
   "metadata": {
    "tags": []
   },
   "outputs": [
    {
     "name": "stdout",
     "output_type": "stream",
     "text": [
      "Output B:False\n",
      "Output C:True\n",
      "Output D:False\n"
     ]
    }
   ],
   "source": [
    "#Python code goes here\n",
    "a=input(\"Input A:\")\n",
    "def isPalindrome(input_string):\n",
    "    flipped = input_string[::-1]\n",
    "    \n",
    "    for i in range(len(input_string)):\n",
    "        if input_string[i] != flipped[i]:\n",
    "            return False\n",
    "    return True\n",
    "\n",
    "b=isPalindrome(\"Mahmood Hameed\");\n",
    "print(\"Output B:\"+str(b)) #Should be False\n",
    "c=isPalindrome(\"Signals, Systems and Data I:I ataD dna smetsyS ,slangiS\")\n",
    "print(\"Output C:\"+str(c)) #Should be True\n",
    "d=isPalindrome(a)\n",
    "print(\"Output D:\"+str(d))"
   ]
  },
  {
   "cell_type": "markdown",
   "id": "c5fc82ff-8f73-463b-8aa5-5b548b3b98b7",
   "metadata": {},
   "source": [
    "Questions to be answered in the report:\n",
    "\n",
    "**1. Is there a way to make this algorithm more efficient in time required and storage space?**\n",
    "\n",
    "**2. Are there cases where the above algorithm/code will fail?**"
   ]
  },
  {
   "cell_type": "markdown",
   "id": "b8b8546f-5b82-4453-b014-d9b8ded1ddcd",
   "metadata": {},
   "source": [
    "### Lab 0.2 - Teams\n",
    "\n",
    "Write the python code for reading input from user and write a function to replace all vowels using the following encoding scheme:\n",
    "- Aa $\\rightarrow$ @\n",
    "- Ee $\\rightarrow$ 3\n",
    "- Ii $\\rightarrow$ 1\n",
    "- Oo $\\rightarrow$ 0\n",
    "- Uu $\\rightarrow$ ^\n",
    "\n",
    "Show the TA example with all of your names concatenated in the string."
   ]
  },
  {
   "cell_type": "code",
   "execution_count": 3,
   "id": "0074149e-4ef7-4c77-bdfc-d8a7ca38d2dd",
   "metadata": {
    "tags": []
   },
   "outputs": [
    {
     "name": "stdout",
     "output_type": "stream",
     "text": [
      "Output B:M@hm00d H@m33d\n",
      "Output C:S1gn@ls, Syst3ms @nd D@t@ I: Th1s 1s my f1rst l@b s3ss10n\n",
      "Output D:h3ll0\n"
     ]
    }
   ],
   "source": [
    "#python code goes here\n",
    "a=input(\"Input A:\")\n",
    "def encode(input_string):\n",
    "    #your code goes here\n",
    "    vowel_map = {'a': '@', 'e': '3', 'i': '1', 'o': '0', 'u': '^'}\n",
    "    \n",
    "    output_string=''.join([c if c not in vowel_map else vowel_map[c] for c in input_string])\n",
    "    return output_string\n",
    "\n",
    "b=encode(\"Mahmood Hameed\");\n",
    "print(\"Output B:\"+b) #Should be M@hm00d H@m33d\n",
    "c=encode(\"Signals, Systems and Data I: This is my first lab session\")\n",
    "print(\"Output C:\"+c) #Should be S1gn@ls, Syst3ms @nd D@t@ 1: Th1s 1s my f1rst l@b s3ss10n\n",
    "d=encode(a)\n",
    "print(\"Output D:\"+d)"
   ]
  },
  {
   "cell_type": "markdown",
   "id": "d2987564-152f-4139-89ee-fa3b767c9252",
   "metadata": {},
   "source": [
    "Questions to be answered in the report:\n",
    "\n",
    "**1. What is the time complexity of the code if the length of the string is N?**\n",
    "\n",
    "**2. How much storage does your function require if the length of the string is N? (1 char is 1 byte)** "
   ]
  },
  {
   "cell_type": "markdown",
   "id": "dd0b4ac8-b72f-42f5-8037-80c55a36a922",
   "metadata": {},
   "source": [
    "## Playing with Signals\n",
    "\n",
    "### Lab 0.3 - Reading, playing and writing audio files\n",
    "\n",
    "Use scipy package to read the provided baby.wav file. **Refer to documentation (https://docs.scipy.org/doc/scipy/reference/io.html)**\n",
    "\n",
    "Perform these 4 actions :\n",
    "- Load the wave file\n",
    "- Plot the wave file in time-domain **Refer to this demo for matplotlib (https://matplotlib.org/stable/plot_types/basic/plot.html#sphx-glr-plot-types-basic-plot-py)**\n",
    "- Write a new wave file called \"babyhigh.wav\" with a sample rate of 96000\n",
    "- Write a new wave file called \"babylow.wav\" with a sample rate of 24000\n",
    "\n",
    "Use IPython package to play the provided baby.wav file as well as the other two \"babyhigh.wav\" and \"babylow.wav\" files. **Refer to documentation (https://ipython.readthedocs.io/en/stable/api/generated/IPython.display.html)**\n"
   ]
  },
  {
   "cell_type": "code",
   "execution_count": 4,
   "id": "6d0a4115-8524-47ef-9c6e-3200fdc567a1",
   "metadata": {
    "tags": []
   },
   "outputs": [],
   "source": [
    "#Python Code goes here\n",
    "#Install the IPython package using !python install --user IPython\n",
    "#1. Read the baby.wav file.\n",
    "\n",
    "\n",
    "#2. Plot the laugh sound (What are the two arrays that you see?)\n",
    "\n",
    "\n",
    "#3. Store the data with sample rate of 96000\n",
    "\n",
    "\n",
    "#4. Store the data with sample rate of 24000\n",
    "\n",
    "\n",
    "#5. Play all the files. Notice how the sound changes?"
   ]
  },
  {
   "cell_type": "markdown",
   "id": "f4fbd93c-564f-485f-978d-586359269440",
   "metadata": {},
   "source": [
    "Questions to be answered in this report:\n",
    "\n",
    "**1. Store the wavefile with a lower sampling rate and try to play it. Does it sound higher pitch or lower pitch? (Keep the IPython display open to show TA)** \n",
    "\n",
    "**2. Store the wavefile with a higher sampling rate and try to play it. Does it sound higher pitch or lower pitch? (Keep the IPython display open to show TA)**"
   ]
  }
 ],
 "metadata": {
  "kernelspec": {
   "display_name": "Python 3",
   "language": "python",
   "name": "python3"
  },
  "language_info": {
   "codemirror_mode": {
    "name": "ipython",
    "version": 3
   },
   "file_extension": ".py",
   "mimetype": "text/x-python",
   "name": "python",
   "nbconvert_exporter": "python",
   "pygments_lexer": "ipython3",
   "version": "3.9.9"
  }
 },
 "nbformat": 4,
 "nbformat_minor": 5
}
